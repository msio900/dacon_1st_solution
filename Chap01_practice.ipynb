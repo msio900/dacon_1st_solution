{
 "cells": [
  {
   "cell_type": "code",
   "execution_count": null,
   "metadata": {},
   "outputs": [],
   "source": []
  }
 ],
 "metadata": {
  "kernelspec": {
   "display_name": "Python 3.6.4 64-bit",
   "language": "python",
   "name": "python3"
  },
  "language_info": {
   "name": "python",
   "version": "3.6.4"
  },
  "orig_nbformat": 4,
  "vscode": {
   "interpreter": {
    "hash": "833bdf4ac79cec096d17d9c5e7653e675ad8f35bad4c9c3dfb40dafcfcddc5a9"
   }
  }
 },
 "nbformat": 4,
 "nbformat_minor": 2
}
