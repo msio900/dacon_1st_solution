{
 "cells": [
  {
   "cell_type": "code",
   "execution_count": null,
   "metadata": {},
   "outputs": [],
   "source": [
    "from matplotlib import font_manager, rc\n",
    "import matplotlib\n",
    "import matplotlib.pyplot as plt\n",
    "import seaborn as sns\n",
    "import pandas as pd\n",
    "import numpy as np\n",
    "import platform\n",
    "\n",
    "# 윈도우인지 맥인지 확인 한 뒤 적절한 폰트 지정\n",
    "if platform.system() == 'Windows':\n",
    "    font_name = font_manager.FontProperties(fname = \"c:/Windows/Fonts/malgun.ttf\").get_name()\n",
    "    rc('font', family = font_name)\n",
    "else:\n",
    "    rc('font', family = 'AppleGothic')\n",
    "\n",
    "# 그래프 상에서 마이너스 기호가 표시되게 하는 설정\n",
    "matplotlib.rcParams['axes.unicode_minus'] = False"
   ]
  }
 ],
 "metadata": {
  "kernelspec": {
   "display_name": "Python 3.6.4 64-bit",
   "language": "python",
   "name": "python3"
  },
  "language_info": {
   "name": "python",
   "version": "3.6.4"
  },
  "orig_nbformat": 4,
  "vscode": {
   "interpreter": {
    "hash": "833bdf4ac79cec096d17d9c5e7653e675ad8f35bad4c9c3dfb40dafcfcddc5a9"
   }
  }
 },
 "nbformat": 4,
 "nbformat_minor": 2
}
